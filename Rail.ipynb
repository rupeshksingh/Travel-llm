{
 "cells": [
  {
   "cell_type": "code",
   "execution_count": 1,
   "id": "44276825-afd1-4f83-bdee-ebfcab6e4f2c",
   "metadata": {},
   "outputs": [],
   "source": [
    "import pandas as pd\n",
    "import requests\n",
    "import calendar\n",
    "from typing import List"
   ]
  },
  {
   "cell_type": "code",
   "execution_count": 24,
   "id": "bcee7035-7563-426b-b9fc-a8f83ce5af9b",
   "metadata": {},
   "outputs": [],
   "source": [
    "def TrainBetweenStation(source: str, destination: str, pref_running_days: List[str]=[]):\n",
    "    data = pd.read_csv(\"Rail_data.txt\", low_memory=False)\n",
    "    Station_Code = data[[\"Station Name\", \"Station Code\"]]\n",
    "    Station_Code = Station_Code.drop_duplicates(subset=['Station Name'])\n",
    "    Station_Code[\"Station Name\"] = Station_Code[\"Station Name\"].apply(lambda x: x.split(\" \")[0])\n",
    "    Station_Code = Station_Code.reset_index()\n",
    "    scode = Station_Code.loc[Station_Code['Station Name'] == source.upper(), 'Station Code'].iloc[0]\n",
    "    dcode = Station_Code.loc[Station_Code['Station Name'] == destination.upper(), 'Station Code'].iloc[0]\n",
    "\n",
    "    url = f\"https://indian-railway-api.cyclic.app/trains/betweenStations/?from={scode}&to={dcode}\"\n",
    "\n",
    "    payload={}\n",
    "    headers = {}\n",
    "    output = {}\n",
    "    \n",
    "    response = requests.request(\"GET\", url, headers=headers, data=payload)\n",
    "\n",
    "    main = \"\"\n",
    "    for i, res in enumerate(response.json()[\"data\"]):\n",
    "        name = res[\"train_base\"][\"train_name\"]\n",
    "        number = res[\"train_base\"][\"train_no\"]\n",
    "        ftime = res[\"train_base\"][\"from_time\"]\n",
    "        ttime = res[\"train_base\"][\"to_time\"]\n",
    "        trtime = res[\"train_base\"][\"travel_time\"]\n",
    "        rdays = res[\"train_base\"][\"running_days\"]\n",
    "        \n",
    "        days_of_week = ['Monday', 'Tuesday', 'Wednesday', 'Thursday', 'Friday', 'Saturday', 'Sunday']\n",
    "        running_days = []\n",
    "        \n",
    "        for j, char in enumerate(rdays):\n",
    "            if char == '1':\n",
    "                running_days.append(calendar.day_name[j])\n",
    "        rdays = ', '.join(running_days)\n",
    "\n",
    "        if float(ftime[:2])>=12:\n",
    "            ftime+=\" PM\"\n",
    "        else:\n",
    "            ftime+=\" AM\"\n",
    "\n",
    "        if float(ttime[:2])>=12:\n",
    "            ttime+=\" PM\"\n",
    "        else:\n",
    "            ttime+=\" AM\"\n",
    "\n",
    "        if len(pref_running_days) == 0:\n",
    "            print(\"Train No. :\", number)\n",
    "            print(\"Train Name :\", name)\n",
    "            print(\"Arrival Time :\", ftime)\n",
    "            print(\"Reaching Time :\", ttime)\n",
    "            print(\"Duration (in hours) :\", trtime)\n",
    "            print(\"Running Days :\", rdays)\n",
    "            print(\"********************\")\n",
    "            output.append()\n",
    "        else:\n",
    "            search_set = set(pref_running_days)\n",
    "            all_found = search_set.intersection(set(running_days))\n",
    "            if all_found:  \n",
    "                print(\"Train No. :\", number)\n",
    "                print(\"Train Name :\", name)\n",
    "                print(\"Arrival Time :\", ftime)\n",
    "                print(\"Reaching Time :\", ttime)\n",
    "                print(\"Duration (in hours) :\", trtime)\n",
    "                print(\"Running Days :\", rdays)\n",
    "                print(\"********************\")\n",
    "\n",
    "    "
   ]
  },
  {
   "cell_type": "code",
   "execution_count": 25,
   "id": "033e22da-6af6-44e6-83ae-ec774a166e55",
   "metadata": {},
   "outputs": [
    {
     "name": "stdout",
     "output_type": "stream",
     "text": [
      "Train No. : 12507\n",
      "Train Name : ARONAI EXPRESS\n",
      "Arrival Time : 09.13 AM\n",
      "Reaching Time : 04.40 AM\n",
      "Duration (in hours) : 19.27\n",
      "Running Days : Thursday\n",
      "********************\n",
      "Train No. : 06569\n",
      "Train Name : SMVB GHY SPL\n",
      "Arrival Time : 09.45 AM\n",
      "Reaching Time : 04.40 AM\n",
      "Duration (in hours) : 18.55\n",
      "Running Days : Monday\n",
      "********************\n",
      "Train No. : 06521\n",
      "Train Name : SMVB GHY SPL\n",
      "Arrival Time : 07.00 AM\n",
      "Reaching Time : 04.10 AM\n",
      "Duration (in hours) : 21.10\n",
      "Running Days : Thursday\n",
      "********************\n",
      "Train No. : 22503\n",
      "Train Name : DBRG VIVEK EXP\n",
      "Arrival Time : 11.55 AM\n",
      "Reaching Time : 09.00 AM\n",
      "Duration (in hours) : 21.05\n",
      "Running Days : Monday, Wednesday, Thursday, Friday, Saturday\n",
      "********************\n"
     ]
    }
   ],
   "source": [
    "TrainBetweenStation(\"kharagpur\", \"kamakhya\", [\"Monday\", \"Thursday\"])"
   ]
  },
  {
   "cell_type": "code",
   "execution_count": null,
   "id": "8e8fb24a-3863-4968-9b86-cb985027e76b",
   "metadata": {},
   "outputs": [],
   "source": []
  }
 ],
 "metadata": {
  "kernelspec": {
   "display_name": "Python 3 (ipykernel)",
   "language": "python",
   "name": "python3"
  },
  "language_info": {
   "codemirror_mode": {
    "name": "ipython",
    "version": 3
   },
   "file_extension": ".py",
   "mimetype": "text/x-python",
   "name": "python",
   "nbconvert_exporter": "python",
   "pygments_lexer": "ipython3",
   "version": "3.11.3"
  }
 },
 "nbformat": 4,
 "nbformat_minor": 5
}
