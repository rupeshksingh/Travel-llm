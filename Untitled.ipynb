{
 "cells": [
  {
   "cell_type": "code",
   "execution_count": 1,
   "id": "09199d25-1b36-4c81-b9c2-84af692e023f",
   "metadata": {},
   "outputs": [],
   "source": [
    "!pip install -q -U requests beautifulsoup4"
   ]
  },
  {
   "cell_type": "code",
   "execution_count": 2,
   "id": "7c43dee0-347b-4d91-aa7d-8124454c515d",
   "metadata": {},
   "outputs": [],
   "source": [
    "import requests\n",
    "from bs4 import BeautifulSoup"
   ]
  },
  {
   "cell_type": "code",
   "execution_count": 3,
   "id": "26eb342a-787b-4b28-b47f-4ed0ee4b5774",
   "metadata": {},
   "outputs": [],
   "source": [
    "url = \"https://www.ixigo.com/search/result/flight?from=DEL&to=BOM&date=12052024&adults=1&children=0&infants=0&class=e&source=Search%20Form\""
   ]
  },
  {
   "cell_type": "code",
   "execution_count": 4,
   "id": "702e4111-a13a-4fdc-a9b5-6cdbce42973d",
   "metadata": {},
   "outputs": [],
   "source": [
    "response = requests.get(url)\n",
    "html_content = response.content"
   ]
  },
  {
   "cell_type": "code",
   "execution_count": 5,
   "id": "8590e86c-6390-4b09-ac47-78c9470e91c3",
   "metadata": {},
   "outputs": [],
   "source": [
    "soup = BeautifulSoup(html_content, \"html.parser\")"
   ]
  },
  {
   "cell_type": "code",
   "execution_count": 6,
   "id": "bc5b6ecc-9b62-475f-acfd-49e18432c1f4",
   "metadata": {},
   "outputs": [
    {
     "name": "stdout",
     "output_type": "stream",
     "text": [
      "None\n"
     ]
    }
   ],
   "source": [
    "print(soup.find(id='$0'))"
   ]
  },
  {
   "cell_type": "code",
   "execution_count": 21,
   "id": "931be4a0-d55b-4aa7-b7aa-5efba08d11e7",
   "metadata": {},
   "outputs": [
    {
     "name": "stdout",
     "output_type": "stream",
     "text": [
      "[]\n"
     ]
    }
   ],
   "source": [
    "# Check for successful response\n",
    "if response.status_code == 200:\n",
    "  # Parse the HTML content\n",
    "  soup = BeautifulSoup(response.content, \"html.parser\")\n",
    "\n",
    "  # Find the parent div with the specified class\n",
    "  parent_div = soup.find(\"div\", class_=parent_class)\n",
    "\n",
    "  # Extract data from child divs (modify based on content structure)\n",
    "  extracted_data = []\n",
    "  if parent_div:  # Check if div is found before accessing its content\n",
    "    for child_div in parent_div.find_all(\"div\"):  # Find all child divs\n",
    "      child_data = []\n",
    "\n",
    "      # Extract text content from child div (adjust for other data types)\n",
    "      child_data.append(child_div.text.strip())\n",
    "\n",
    "      # You can also extract data from child elements within the child div\n",
    "      # ... (similar logic as previous examples)\n",
    "\n",
    "      extracted_data.append(child_data)  # Append data from each child div\n",
    "\n",
    "  # Print the extracted data (modify for your needs)\n",
    "  print(extracted_data)\n",
    "else:\n",
    "  print(\"Error fetching data from URL:\", url)"
   ]
  },
  {
   "cell_type": "code",
   "execution_count": null,
   "id": "d8b2458b-373c-460c-ad5e-ba799d9145f8",
   "metadata": {},
   "outputs": [],
   "source": []
  },
  {
   "cell_type": "code",
   "execution_count": null,
   "id": "a20e0301-d2ab-458e-9050-29ebfec9cc9e",
   "metadata": {},
   "outputs": [],
   "source": [
    "for child in head_tag.descendants:\n",
    "    print(child)"
   ]
  },
  {
   "cell_type": "code",
   "execution_count": null,
   "id": "a36e3be2-53cd-4496-b3ad-1e16539e58fc",
   "metadata": {},
   "outputs": [],
   "source": []
  },
  {
   "cell_type": "code",
   "execution_count": null,
   "id": "d2733283-1f37-4db8-8741-7b080c2dfd07",
   "metadata": {},
   "outputs": [],
   "source": []
  },
  {
   "cell_type": "code",
   "execution_count": null,
   "id": "7bcd0477-d315-4dad-bd1c-1d6b9f9cb8d0",
   "metadata": {},
   "outputs": [],
   "source": []
  },
  {
   "cell_type": "code",
   "execution_count": null,
   "id": "8233cd96-c190-44c6-8893-0f7c0b43ce9b",
   "metadata": {},
   "outputs": [],
   "source": []
  }
 ],
 "metadata": {
  "kernelspec": {
   "display_name": "Python 3 (ipykernel)",
   "language": "python",
   "name": "python3"
  },
  "language_info": {
   "codemirror_mode": {
    "name": "ipython",
    "version": 3
   },
   "file_extension": ".py",
   "mimetype": "text/x-python",
   "name": "python",
   "nbconvert_exporter": "python",
   "pygments_lexer": "ipython3",
   "version": "3.11.3"
  }
 },
 "nbformat": 4,
 "nbformat_minor": 5
}
